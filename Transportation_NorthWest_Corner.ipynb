{
  "nbformat": 4,
  "nbformat_minor": 0,
  "metadata": {
    "colab": {
      "provenance": [],
      "authorship_tag": "ABX9TyMMsxqCbl0TBKdSA4oHoNeL",
      "include_colab_link": true
    },
    "kernelspec": {
      "name": "python3",
      "display_name": "Python 3"
    },
    "language_info": {
      "name": "python"
    }
  },
  "cells": [
    {
      "cell_type": "markdown",
      "metadata": {
        "id": "view-in-github",
        "colab_type": "text"
      },
      "source": [
        "<a href=\"https://colab.research.google.com/github/abdulla41mamun/CSE717MathematicalProgramming/blob/main/Transportation_NorthWest_Corner.ipynb\" target=\"_parent\"><img src=\"https://colab.research.google.com/assets/colab-badge.svg\" alt=\"Open In Colab\"/></a>"
      ]
    },
    {
      "cell_type": "code",
      "execution_count": 1,
      "metadata": {
        "colab": {
          "base_uri": "https://localhost:8080/"
        },
        "id": "5kw7eJPYgFrS",
        "outputId": "8c1bffef-d8bc-4d47-e487-1683412a443f"
      },
      "outputs": [
        {
          "output_type": "stream",
          "name": "stdout",
          "text": [
            "Allocation Matrix:\n",
            "[250, 50, 0, 0]\n",
            "[0, 300, 100, 0]\n",
            "[0, 0, 300, 200]\n"
          ]
        }
      ],
      "source": [
        "def northwest_corner_method(supply, demand):\n",
        "    \"\"\"\n",
        "    supply: list of supply for each source [s1, s2, ...]\n",
        "    demand: list of demand for each destination [d1, d2, ...]\n",
        "    returns: allocation matrix (list of lists) with allocated units\n",
        "    \"\"\"\n",
        "    # Number of sources (m) and destinations (n)\n",
        "    m, n = len(supply), len(demand)\n",
        "\n",
        "    # Initialize allocation matrix with zero\n",
        "    allocation = [[0] * n for _ in range(m)]\n",
        "\n",
        "    i, j = 0, 0\n",
        "\n",
        "    while i < m and j < n:\n",
        "        # Allocate as many units as possible in the current cell\n",
        "        alloc = min(supply[i], demand[j])\n",
        "        allocation[i][j] = alloc\n",
        "\n",
        "        # Update supply and demand\n",
        "        supply[i] -= alloc\n",
        "        demand[j] -= alloc\n",
        "\n",
        "        # Move to the next row if supply is depleted\n",
        "        if supply[i] == 0:\n",
        "            i += 1\n",
        "\n",
        "        # Move to the next column if demand is met\n",
        "        if demand[j] == 0:\n",
        "            j += 1\n",
        "\n",
        "    return allocation\n",
        "\n",
        "# Example usage:\n",
        "if __name__ == \"__main__\":\n",
        "    supply_example = [300, 400, 500]\n",
        "    demand_example = [250, 350, 400, 200]\n",
        "    result = northwest_corner_method(supply_example, demand_example)\n",
        "    print(\"Allocation Matrix:\")\n",
        "    for row in result:\n",
        "        print(row)\n"
      ]
    }
  ]
}